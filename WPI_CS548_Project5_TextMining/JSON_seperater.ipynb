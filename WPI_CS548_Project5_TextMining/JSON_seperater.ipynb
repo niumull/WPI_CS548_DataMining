{
 "cells": [
  {
   "cell_type": "code",
   "execution_count": 1,
   "metadata": {
    "collapsed": false
   },
   "outputs": [],
   "source": [
    "import pandas as pd\n",
    "import numpy as np\n",
    "import nltk\n",
    "import json\n",
    "from nltk.stem import WordNetLemmatizer\n",
    "from collections import Counter\n",
    "from scipy import sparse\n",
    "from sklearn.decomposition import PCA\n",
    "get_ipython().magic(u'matplotlib inline')\n",
    "from sklearn.feature_extraction.text import TfidfTransformer\n",
    "from sklearn.cluster import KMeans\n",
    "import datetime\n",
    "import time\n",
    "import matplotlib.pyplot as plt"
   ]
  },
  {
   "cell_type": "code",
   "execution_count": 2,
   "metadata": {
    "collapsed": false
   },
   "outputs": [],
   "source": [
    "start_time = time.time()\n",
    "with open('train.json') as data_file:    \n",
    "    data = json.load(data_file)"
   ]
  },
  {
   "cell_type": "code",
   "execution_count": 3,
   "metadata": {
    "collapsed": false
   },
   "outputs": [],
   "source": [
    "## Dictionary\n",
    "\n",
    "def create_dict_cuisine_ingred(data):\n",
    "    dictCuisineIngred = {}\n",
    "    cuisines = []\n",
    "    ingredients = []\n",
    "    \n",
    "    for i in range(len(data)):\n",
    "        \n",
    "        # just changing the name of one of the cuisines so\n",
    "        # it is more readable in the final visualization\n",
    "        cuisine = data[i]['cuisine']\n",
    "        if cuisine == 'southern_us':\n",
    "            cuisine = 'US'\n",
    "\n",
    "        ingredientsPerCuisine = data[i]['ingredients']\n",
    "        \n",
    "        if cuisine not in dictCuisineIngred.keys():\n",
    "            cuisines.append(cuisine)\n",
    "            dictCuisineIngred[cuisine] = ingredientsPerCuisine\n",
    "            \n",
    "        else: \n",
    "            currentList = dictCuisineIngred[cuisine]\n",
    "            currentList.extend(ingredientsPerCuisine)\n",
    "            dictCuisineIngred[cuisine] = currentList\n",
    "                 \n",
    "        ingredients.extend(ingredientsPerCuisine)\n",
    "         \n",
    "    ingredients = list(set(ingredients)) # unique list of ALL ingredients\n",
    "    numUniqueIngredients = len(ingredients)\n",
    "    numCuisines = len(cuisines)\n",
    "    \n",
    "    return dictCuisineIngred, numCuisines, numUniqueIngredients, cuisines, ingredients\n",
    "\n",
    "def create_term_count_matrix(dictionary, numCuisines, numIngred, cuisines, ingredients):\n",
    "    termCountMatrix = np.zeros((numCuisines,numIngred))\n",
    "    i = 0\n",
    "    \n",
    "    for cuisine in cuisines:\n",
    "        ingredientsPerCuisine = dictCuisineIngred[cuisine]\n",
    "\n",
    "        for ingredient in ingredientsPerCuisine:\n",
    "            j = ingredients.index(ingredient) #in order to know which column to put the term count in, we will ago according to the terms' order in the ingredients array\n",
    "            termCountMatrix[i,j] += 1\n",
    "\n",
    "        i += 1\n",
    "\n",
    "    return termCountMatrix\n",
    "    \n",
    "\n",
    "dictCuisineIngred, numCuisines, numIngred, cuisines, ingredients = create_dict_cuisine_ingred(data)\n",
    "countsMatrix = create_term_count_matrix(dictCuisineIngred, numCuisines, numIngred, cuisines, ingredients)"
   ]
  },
  {
   "cell_type": "code",
   "execution_count": null,
   "metadata": {
    "collapsed": false
   },
   "outputs": [],
   "source": [
    " cuisines"
   ]
  },
  {
   "cell_type": "code",
   "execution_count": null,
   "metadata": {
    "collapsed": true
   },
   "outputs": [],
   "source": [
    "with open('test.json') as data_file:    \n",
    "    test = json.load(data_file)"
   ]
  },
  {
   "cell_type": "code",
   "execution_count": null,
   "metadata": {
    "collapsed": true
   },
   "outputs": [],
   "source": [
    "test = test[:1000]"
   ]
  },
  {
   "cell_type": "code",
   "execution_count": null,
   "metadata": {
    "collapsed": false
   },
   "outputs": [],
   "source": [
    "n = np.zeros((len(test),len(cuisines)))\n",
    "# nation = np.zeros((len(test),len(cuisines)))\n",
    "nation = [['']*len(cuisines)]*len(test)\n",
    "# nation\n",
    "for i in range(len(test)):\n",
    "    for j in range(len(cuisines)): \n",
    "        for item in test[i]['ingredients']:\n",
    "            if item in dictCuisineIngred[cuisines[j]]:\n",
    "                n[i,j] = n[i,j]+1\n",
    "                \n",
    "for i in range(len(test)): \n",
    "    nation[i] = ['']*len(cuisines)\n",
    "    for j in range(len(cuisines)):            \n",
    "        if n[i,j] == len(test[i]['ingredients']):\n",
    "            nation[i][j] = cuisines[j]\n",
    "\n",
    "load_time = time.time() - start_time\n",
    "print(load_time)"
   ]
  },
  {
   "cell_type": "code",
   "execution_count": null,
   "metadata": {
    "collapsed": true
   },
   "outputs": [],
   "source": [
    "pd.DataFrame(nation).to_csv('prediction.csv', index = False)"
   ]
  },
  {
   "cell_type": "code",
   "execution_count": 4,
   "metadata": {
    "collapsed": false
   },
   "outputs": [
    {
     "name": "stdout",
     "output_type": "stream",
     "text": [
      "                                  ingredients_reciep\n",
      "0  baking powder , eggs , all-purpose flour , rai...\n"
     ]
    }
   ],
   "source": [
    "test = pd.read_json('test.json')\n",
    "test['ingredients_reciep'] = [' , '.join(z).strip() for z in test['ingredients']]  \n",
    "test_clean = test.drop(['id','ingredients'],axis=1)\n",
    "print(test_clean[0:1])"
   ]
  },
  {
   "cell_type": "code",
   "execution_count": 5,
   "metadata": {
    "collapsed": true
   },
   "outputs": [],
   "source": [
    "def tf_idf_from_count_matrix(countsMatrix):\n",
    "    \n",
    "    countsMatrix = sparse.csr_matrix(countsMatrix)\n",
    "    transformer = TfidfTransformer()\n",
    "    tfidf = transformer.fit_transform(countsMatrix) # normalizes vectors to mean 0 and std 1 and computes tf-idf\n",
    "    tfidf.toarray() \n",
    "    return tfidf.toarray()"
   ]
  },
  {
   "cell_type": "code",
   "execution_count": 6,
   "metadata": {
    "collapsed": false
   },
   "outputs": [],
   "source": [
    "tfIdf_Matrix = tf_idf_from_count_matrix(countsMatrix)\n",
    "pca = PCA(n_components=2)\n",
    "reduced_data = pca.fit_transform(tfIdf_Matrix)\n",
    "# reduced_data"
   ]
  },
  {
   "cell_type": "code",
   "execution_count": 7,
   "metadata": {
    "collapsed": false
   },
   "outputs": [
    {
     "data": {
      "text/plain": [
       "[3.6016936988199002,\n",
       " 1.5266745184883459,\n",
       " 0.47458433838049058,\n",
       " 0.33527871018807121,\n",
       " 0.24334143577900236,\n",
       " 0.17180082211901798,\n",
       " 0.12238941296072968,\n",
       " 0.097821654183876089,\n",
       " 0.067534891465589136,\n",
       " 0.048545855976632607]"
      ]
     },
     "execution_count": 7,
     "metadata": {},
     "output_type": "execute_result"
    }
   ],
   "source": [
    "SSE = [0]*11\n",
    "for i in [1,2,3,4,5,6,7,8,9,10]:\n",
    "    kmeans = KMeans(init='k-means++', n_clusters=i, n_init=10)\n",
    "    kmeans.fit(reduced_data)\n",
    "    SSE[i] = kmeans.inertia_\n",
    "    \n",
    "SSE = SSE[1:11]\n",
    "SSE\n"
   ]
  },
  {
   "cell_type": "code",
   "execution_count": 8,
   "metadata": {
    "collapsed": false,
    "scrolled": true
   },
   "outputs": [
    {
     "data": {
      "image/png": "[encoded data removed]",
      "text/plain": [
       "<matplotlib.figure.Figure at 0xfafdf60>"
      ]
     },
     "metadata": {},
     "output_type": "display_data"
    }
   ],
   "source": [
    "plt.figure(figsize=(10,10))\n",
    "plt.plot(list(range(10)),SSE)\n",
    "\n",
    "plt.ylabel('SSE',fontsize=14)\n",
    "plt.xlabel('number of clusters',fontsize=14)\n",
    "plt.title('K_means cluster number chioce based on SSE',fontsize=20)\n",
    "plt.savefig('kmeans.jpg')\n",
    "plt.show()"
   ]
  },
  {
   "cell_type": "code",
   "execution_count": null,
   "metadata": {
    "collapsed": false
   },
   "outputs": [],
   "source": [
    "def kmeans_cultures(numOfClusters):\n",
    "    kmeans = KMeans(init='k-means++', n_clusters=numOfClusters, n_init=10)\n",
    "    kmeans.fit(reduced_data)\n",
    "    return kmeans.predict(reduced_data)\n",
    "\n",
    "\n",
    "labels = kmeans_cultures(4)\n",
    "\n",
    "# cuisines = pd.DataFrame(cuisines,columns=['cuisines'])\n",
    "# labels = pd.DataFrame(labels,columns=['labels'])\n",
    "# objs = [cuisines,labels]\n",
    "# k_means_food = pd.concat(objs, axis=1, join='outer')\n",
    "\n",
    "labels"
   ]
  },
  {
   "cell_type": "code",
   "execution_count": null,
   "metadata": {
    "collapsed": false
   },
   "outputs": [],
   "source": [
    "cuisines"
   ]
  },
  {
   "cell_type": "code",
   "execution_count": null,
   "metadata": {
    "collapsed": false
   },
   "outputs": [],
   "source": [
    "i = 0 \n",
    "j = 0 \n",
    "\n",
    "effect_on_cluster = [0 for cuisine in cuisines]\n",
    "\n",
    "for cuisineA in cuisines:  \n",
    "\n",
    "    A_intersection = 0\n",
    "    numInClusterBesidesA = 0\n",
    "    setA = set(dictCuisineIngred[cuisineA])\n",
    "    setB_forA = []\n",
    "    j = 0\n",
    "    \n",
    "    for cuisineB in cuisines:\n",
    "        if cuisineB != cuisineA: # if it is A itself - we obviously wouldn't want this (will be exactly 1)\n",
    "            if labels[j] == labels[i]: #determines if then they are both in the same cluster\n",
    "                setB_forA.extend(set(dictCuisineIngred[cuisineB]))\n",
    "                numInClusterBesidesA += 1\n",
    "        j += 1\n",
    "    \n",
    "    A_intersection = len(set(setA & set(setB_forA))) / float(len(set(setA.union(setB_forA))))\n",
    "    effect_on_cluster[i] = A_intersection\n",
    "       \n",
    "    i += 1"
   ]
  },
  {
   "cell_type": "code",
   "execution_count": null,
   "metadata": {
    "collapsed": false
   },
   "outputs": [],
   "source": [
    "# for i in range(20):\n",
    "#     print(ax.text(rdata[i,0],rdata[i,1], cuisines[i], size=10.6,horizontalalignment='center', fontweight = 'bold', color='w'))\n",
    "# rdata[20,0]\n",
    "cuisines[0]"
   ]
  },
  {
   "cell_type": "code",
   "execution_count": null,
   "metadata": {
    "collapsed": false
   },
   "outputs": [],
   "source": [
    "import matplotlib.pyplot as plt\n",
    "from sklearn.feature_extraction.text import TfidfTransformer\n",
    "rdata = reduced_data\n",
    "i=0\n",
    "figureRatios = (15,20)\n",
    "x = []\n",
    "y = []\n",
    "color = []\n",
    "area = []\n",
    "\n",
    "\n",
    "colorPalette = ['#B4F060','#93BEFF', '#F9B78B','#F78EFF', '#D0B8AC'] \n",
    "plt.figure(1, figsize=figureRatios)\n",
    "for data in rdata:\n",
    "    x.append(data[0]) \n",
    "    y.append(data[1])  \n",
    "    color.append(colorPalette[labels[i]]) \n",
    "    area.append(effect_on_cluster[i]*2000) # magnifying the bubble's sizes (all by the same unit)\n",
    "    # plotting the name of the cuisine:\n",
    "    \n",
    "    i += 1\n",
    "\n",
    "\n",
    "fig = plt.figure(figsize=(8,8))\n",
    "ax = fig.add_subplot(111)\n",
    "plt.scatter(x, y, c=color, s=area, linewidths=2, edgecolor='w', alpha=0.80) \n",
    "# for i in range(10):\n",
    "ax.text(rdata[0,0],rdata[0,1], cuisines[0], size=10.6,horizontalalignment='center', fontweight = 'bold', color='black')\n",
    "ax.text(rdata[1,0],rdata[1,1], cuisines[1], size=10.6,horizontalalignment='center', fontweight = 'bold', color='black')\n",
    "ax.text(rdata[2,0],rdata[2,1], cuisines[2], size=10.6,horizontalalignment='center', fontweight = 'bold', color='black')\n",
    "ax.text(rdata[3,0],rdata[3,1], cuisines[3], size=10.6,horizontalalignment='center', fontweight = 'bold', color='black')\n",
    "ax.text(rdata[4,0],rdata[4,1], cuisines[4], size=10.6,horizontalalignment='center', fontweight = 'bold', color='black')\n",
    "ax.text(rdata[5,0],rdata[5,1], cuisines[5], size=10.6,horizontalalignment='center', fontweight = 'bold', color='black')\n",
    "ax.text(rdata[6,0],rdata[6,1], cuisines[6], size=10.6,horizontalalignment='center', fontweight = 'bold', color='black')\n",
    "ax.text(rdata[7,0],rdata[7,1], cuisines[7], size=10.6,horizontalalignment='center', fontweight = 'bold', color='black')\n",
    "ax.text(rdata[8,0],rdata[8,1], cuisines[8], size=10.6,horizontalalignment='center', fontweight = 'bold', color='black')\n",
    "ax.text(rdata[9,0],rdata[9,1], cuisines[9], size=10.6,horizontalalignment='center', fontweight = 'bold', color='black')\n",
    "ax.text(rdata[10,0],rdata[10,1], cuisines[10], size=10.6,horizontalalignment='center', fontweight = 'bold', color='black')\n",
    "ax.text(rdata[11,0],rdata[11,1], cuisines[11], size=10.6,horizontalalignment='center', fontweight = 'bold', color='black')\n",
    "ax.text(rdata[12,0],rdata[12,1], cuisines[12], size=10.6,horizontalalignment='center', fontweight = 'bold', color='black')\n",
    "ax.text(rdata[13,0],rdata[13,1], cuisines[13], size=10.6,horizontalalignment='center', fontweight = 'bold', color='black')\n",
    "ax.text(rdata[14,0],rdata[14,1], cuisines[14], size=10.6,horizontalalignment='center', fontweight = 'bold', color='black')\n",
    "ax.text(rdata[15,0],rdata[15,1], cuisines[15], size=10.6,horizontalalignment='center', fontweight = 'bold', color='black')\n",
    "ax.text(rdata[16,0],rdata[16,1], cuisines[16], size=10.6,horizontalalignment='center', fontweight = 'bold', color='black')\n",
    "ax.text(rdata[17,0],rdata[17,1], cuisines[17], size=10.6,horizontalalignment='center', fontweight = 'bold', color='black')\n",
    "ax.text(rdata[18,0],rdata[18,1], cuisines[18], size=10.6,horizontalalignment='center', fontweight = 'bold', color='black')\n",
    "ax.text(rdata[19,0],rdata[19,1], cuisines[19], size=10.6,horizontalalignment='center', fontweight = 'bold', color='black')\n",
    "plt.axis([-0.45,0.65,-0.55,0.55])\n",
    "plt.axes().set_aspect(0.8, 'box')\n",
    "\n",
    "plt.xlabel('PCA_first')\n",
    "plt.ylabel('PCA_second')\n",
    "plt.title('Cluster by cuisines',fontsize=20)\n",
    "# plt.axis('off') # removing the PC axes\n",
    "plt.savefig('Countries.jpg')\n",
    "plt.show()\n"
   ]
  },
  {
   "cell_type": "code",
   "execution_count": null,
   "metadata": {
    "collapsed": true
   },
   "outputs": [],
   "source": []
  }
 ],
 "metadata": {
  "anaconda-cloud": {},
  "kernelspec": {
   "display_name": "Python [default]",
   "language": "python",
   "name": "python3"
  },
  "language_info": {
   "codemirror_mode": {
    "name": "ipython",
    "version": 3
   },
   "file_extension": ".py",
   "mimetype": "text/x-python",
   "name": "python",
   "nbconvert_exporter": "python",
   "pygments_lexer": "ipython3",
   "version": "3.5.2"
  }
 },
 "nbformat": 4,
 "nbformat_minor": 1
}
