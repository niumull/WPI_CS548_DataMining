{
 "cells": [
  {
   "cell_type": "code",
   "execution_count": 4,
   "metadata": {
    "collapsed": true
   },
   "outputs": [],
   "source": [
    "from sklearn.decomposition import PCA\n",
    "from sklearn.metrics.pairwise import pairwise_distances\n",
    "from sklearn.metrics import mutual_info_score\n",
    "from sklearn.metrics import normalized_mutual_info_score\n",
    "from sklearn.metrics.cluster import v_measure_score\n",
    "from sklearn.metrics import silhouette_samples\n",
    "from sklearn import cluster\n",
    "from sklearn import preprocessing\n",
    "import pandas as pd\n",
    "import numpy as np\n",
    "import matplotlib.pyplot as plt\n",
    "import seaborn as sns\n",
    "from scipy.cluster import hierarchy\n",
    "from scipy.spatial import distance\n",
    "import collections\n",
    "import datetime\n",
    "import time"
   ]
  },
  {
   "cell_type": "code",
   "execution_count": 5,
   "metadata": {
    "collapsed": true
   },
   "outputs": [],
   "source": [
    "df = pd.read_csv('processed.cleveland_ini_pre.csv')\n",
    "df_1 = pd.DataFrame(df, columns=['#3(age)','#4(sex)','#58(num)'])\n",
    "df_2 = pd.DataFrame(df, columns=['#9(cp)=TypicalAngina','#9(cp)=Asymptomatic','#9(cp)=NonAnginalPain','#9(cp)=AtypicalAngina',\n",
    "                                 '#16(fbs)','#32(thalach)'])"
   ]
  },
  {
   "cell_type": "code",
   "execution_count": 6,
   "metadata": {
    "collapsed": true
   },
   "outputs": [
    {
     "name": "stdout",
     "output_type": "stream",
     "text": [
      "{'n_clusters': 2, 'affinity': 'euclidean', 'compute_full_tree': 'auto', 'linkage': 'average', 'memory': Memory(cachedir=None), 'pooling_func': <function mean at 0x00000197B63776A8>, 'connectivity': None}\n",
      "\n",
      "Percentage of clusters\n",
      "22.895622895622896\n",
      "77.10437710437711\n",
      "0.0\n",
      "0.0\n",
      "0.0\n"
     ]
    },
    {
     "data": {
      "text/plain": [
       "0.012028694152832031"
      ]
     },
     "execution_count": 6,
     "metadata": {},
     "output_type": "execute_result"
    }
   ],
   "source": [
    "start_time = time.time()\n",
    "h_1 = cluster.AgglomerativeClustering(n_clusters=2, linkage=\"average\").fit(df)\n",
    "print(h_1.get_params())\n",
    "\n",
    "cluster_percentage = [0]*5\n",
    "print()\n",
    "print('Percentage of clusters')\n",
    "for i in range(5):\n",
    "    print(collections.Counter(h_1.labels_)[i]*100/297)\n",
    "    \n",
    "load_time_h_1 = time.time() - start_time\n",
    "load_time_h_1"
   ]
  },
  {
   "cell_type": "code",
   "execution_count": 11,
   "metadata": {
    "collapsed": false
   },
   "outputs": [
    {
     "ename": "AttributeError",
     "evalue": "'AgglomerativeClustering' object has no attribute 'label_'",
     "output_type": "error",
     "traceback": [
      "\u001b[0;31m---------------------------------------------------------------------------\u001b[0m",
      "\u001b[0;31mAttributeError\u001b[0m                            Traceback (most recent call last)",
      "\u001b[0;32m<ipython-input-11-f3aea0b4c63e>\u001b[0m in \u001b[0;36m<module>\u001b[0;34m()\u001b[0m\n\u001b[0;32m----> 1\u001b[0;31m \u001b[0mh_1\u001b[0m\u001b[1;33m.\u001b[0m\u001b[0mlabel_\u001b[0m\u001b[1;33m\u001b[0m\u001b[0m\n\u001b[0m",
      "\u001b[0;31mAttributeError\u001b[0m: 'AgglomerativeClustering' object has no attribute 'label_'"
     ]
    }
   ],
   "source": [
    "h_1.label_"
   ]
  },
  {
   "cell_type": "code",
   "execution_count": 7,
   "metadata": {
    "collapsed": false
   },
   "outputs": [],
   "source": [
    "start_time = time.time()\n",
    "fig = plt.figure(figsize=(8,5))\n",
    "Y = distance.pdist(df_1)\n",
    "Z = hierarchy.linkage(Y, method = \"weighted\", metric = \"euclidean\")\n",
    "T = hierarchy.fcluster(Z, 5, criterion = \"distance\",depth=10)\n",
    "plt.title('Hierarchical Clustering Dendrogram (Q1 Weighted) ',fontsize=15)\n",
    "plt.xlabel('sample index or (cluster size)',fontsize=10)\n",
    "plt.ylabel('distance',fontsize=10)\n",
    "hierarchy.dendrogram(Z,4,truncate_mode='level',orientation='top',show_contracted=True)\n",
    "plt.savefig('h1.jpg')\n",
    "load_time_h_1 = time.time() - start_time"
   ]
  },
  {
   "cell_type": "code",
   "execution_count": 8,
   "metadata": {
    "collapsed": false
   },
   "outputs": [],
   "source": [
    "start_time = time.time()\n",
    "fig = plt.figure(figsize=(8,5))\n",
    "Y = distance.pdist(df_2)\n",
    "Z = hierarchy.linkage(Y, method = \"complete\", metric = \"euclidean\")\n",
    "T = hierarchy.fcluster(Z, 10, criterion = \"distance\",depth=5)\n",
    "plt.title('Hierarchical Clustering Dendrogram (Q2 Complete)',fontsize=15)\n",
    "plt.xlabel('sample index or (cluster size)',fontsize=12)\n",
    "plt.ylabel('distance',fontsize=12)\n",
    "hierarchy.dendrogram(Z,4,truncate_mode='level',orientation='top',show_contracted=True)\n",
    "plt.savefig('h2.jpg')\n",
    "load_time_h_2 = time.time() - start_time"
   ]
  },
  {
   "cell_type": "code",
   "execution_count": 9,
   "metadata": {
    "collapsed": false
   },
   "outputs": [],
   "source": [
    "start_time = time.time()\n",
    "fig = plt.figure(figsize=(8,5))\n",
    "Y = distance.pdist(df)\n",
    "Z = hierarchy.linkage(Y, method = \"average\", metric = \"euclidean\")\n",
    "T = hierarchy.fcluster(Z, 10, criterion = \"distance\",depth=5)\n",
    "plt.title('Hierarchical Clustering Dendrogram (Q3 Average) ',fontsize=15)\n",
    "plt.xlabel('sample index or (cluster size)',fontsize=12)\n",
    "plt.ylabel('distance',fontsize=12)\n",
    "hierarchy.dendrogram(Z,4,truncate_mode='level',orientation='top',show_contracted=True)\n",
    "plt.savefig('h3.jpg')\n",
    "load_time_h_3 = time.time() - start_time"
   ]
  },
  {
   "cell_type": "code",
   "execution_count": 10,
   "metadata": {
    "collapsed": false
   },
   "outputs": [
    {
     "name": "stdout",
     "output_type": "stream",
     "text": [
      "It took 0.538933 seconds to form Hierarchical cluster for Q1\n",
      "It took 0.418613 seconds to form Hierarchical cluster for Q2\n",
      "It took 0.436157 seconds to form Hierarchical cluster for Q3\n"
     ]
    }
   ],
   "source": [
    "print(\"It took %.8s seconds to form Hierarchical cluster for Q1\" % (load_time_h_1))\n",
    "print(\"It took %.8s seconds to form Hierarchical cluster for Q2\" % (load_time_h_2))\n",
    "print(\"It took %.8s seconds to form Hierarchical cluster for Q3\" % (load_time_h_3))"
   ]
  },
  {
   "cell_type": "code",
   "execution_count": null,
   "metadata": {
    "collapsed": true
   },
   "outputs": [],
   "source": []
  }
 ],
 "metadata": {
  "anaconda-cloud": {},
  "kernelspec": {
   "display_name": "Python [default]",
   "language": "python",
   "name": "python3"
  },
  "language_info": {
   "codemirror_mode": {
    "name": "ipython",
    "version": 3
   },
   "file_extension": ".py",
   "mimetype": "text/x-python",
   "name": "python",
   "nbconvert_exporter": "python",
   "pygments_lexer": "ipython3",
   "version": "3.5.2"
  }
 },
 "nbformat": 4,
 "nbformat_minor": 1
}
